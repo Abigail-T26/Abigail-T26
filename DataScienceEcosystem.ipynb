{
 "cells": [
  {
   "cell_type": "markdown",
   "id": "a4a445ed-e2b5-46f1-b071-6ecca329813f",
   "metadata": {},
   "source": [
    "# Data Science Tools and Ecosystem\n"
   ]
  },
  {
   "cell_type": "markdown",
   "id": "5d04d511-d22e-4619-9beb-126eec117fe2",
   "metadata": {},
   "source": [
    "# In this notebook, Data Science Tools and Ecosystem are summarized."
   ]
  },
  {
   "cell_type": "markdown",
   "id": "bb63c002-022a-45b1-8931-4da8d5de0256",
   "metadata": {},
   "source": [
    "# **Objectives**\n",
    "\n",
    "+ List popular languages for Data Science.\n",
    "+ List popular libraries for Data Science.\n",
    "+  List popular tools for Data Science.\n",
    "+  Write code to solve arithemetic operation\r\n",
    "\n",
    "\r\n",
    "\r\n",
    "\n",
    "\r\n",
    "\r\n"
   ]
  },
  {
   "cell_type": "markdown",
   "id": "c9453135-795a-40df-882c-5e34aead61f7",
   "metadata": {},
   "source": [
    "## Some of the popular languages that Data Scientists use are:\r",
    "1. Python\n",
    "2. R\n",
    "3. SQL\n",
    "4. Julia\n"
   ]
  },
  {
   "cell_type": "markdown",
   "id": "f724b399-b555-45ac-85c1-e5008168886b",
   "metadata": {},
   "source": [
    "# Some of the commonly used libraries used by Data Scientists include:\n",
    "1. Pandas\n",
    "2. Numpy\n",
    "3. Mathplotlib\n",
    "4. Seaborn"
   ]
  },
  {
   "cell_type": "markdown",
   "id": "29ed784f-26cb-4552-90d3-e59c09d0da3d",
   "metadata": {},
   "source": [
    "### Below are a few examples of evaluating arithmetic expressions in Python\n"
   ]
  },
  {
   "cell_type": "code",
   "execution_count": 3,
   "id": "ab543a60-25ac-4d6f-b733-1e2f4b4f6faf",
   "metadata": {},
   "outputs": [
    {
     "data": {
      "text/plain": [
       "17"
      ]
     },
     "execution_count": 3,
     "metadata": {},
     "output_type": "execute_result"
    }
   ],
   "source": [
    "#This a simple arithmetic expression to mutiply then add integers.\n",
    "(3*4)+5\n"
   ]
  },
  {
   "cell_type": "code",
   "execution_count": 4,
   "id": "cd1599ac-0ee5-4e45-96dc-20c0daae7787",
   "metadata": {},
   "outputs": [
    {
     "data": {
      "text/plain": [
       "3.3333333333333335"
      ]
     },
     "execution_count": 4,
     "metadata": {},
     "output_type": "execute_result"
    }
   ],
   "source": [
    "#This will convert 200 minutes to hours by diving by 60\n",
    "200/60"
   ]
  },
  {
   "cell_type": "markdown",
   "id": "d15aac69-61c8-446e-9348-40a700e4cfea",
   "metadata": {},
   "source": [
    "## Author\n",
    "Abigail Olukayode"
   ]
  },
  {
   "cell_type": "code",
   "execution_count": null,
   "id": "e7360dbe-9372-40bd-925d-ab303bfdbebe",
   "metadata": {},
   "outputs": [],
   "source": []
  }
 ],
 "metadata": {
  "kernelspec": {
   "display_name": "Python 3 (ipykernel)",
   "language": "python",
   "name": "python3"
  },
  "language_info": {
   "codemirror_mode": {
    "name": "ipython",
    "version": 3
   },
   "file_extension": ".py",
   "mimetype": "text/x-python",
   "name": "python",
   "nbconvert_exporter": "python",
   "pygments_lexer": "ipython3",
   "version": "3.11.7"
  }
 },
 "nbformat": 4,
 "nbformat_minor": 5
}
